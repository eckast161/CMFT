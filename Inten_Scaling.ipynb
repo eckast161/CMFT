{
 "cells": [
  {
   "cell_type": "code",
   "execution_count": 872,
   "metadata": {},
   "outputs": [],
   "source": [
    "import pandas as pd\n",
    "import numpy as np\n",
    "import matplotlib.pyplot as plt\n",
    "from numpy import *\n",
    "\n",
    "\n",
    "\n",
    "\n",
    "\n",
    "\n",
    "#Omega=1.25\n",
    "\n",
    "Res0128_1dot25_0=np.array(pd.read_csv('_F1F0_1280.48626899999999995FinF0F1_Results_Cluster_size_6_Omega_1.25_Lax_20_Tspan_0.0-0.09909480705097665.txt')).astype(complex)\n",
    "Res0128_1dot25_1=np.array(pd.read_csv('_F1F0_1280.763744FinF0F1_Results_Cluster_size_6_Omega_1.25_Lax_20_Tspan_0.0-0.09909480705097665.txt')).astype(complex)\n",
    "Res0128_1dot25_2=np.array(pd.read_csv('_F1F0_1280.082729FinF0F1_Results_Cluster_size_6_Omega_1.25_Lax_20_Tspan_0.0-0.09909480705097665.txt')).astype(complex)\n",
    "Res0128_1dot25_3=np.array(pd.read_csv('_F1F0_1280.008910999999999999FinF0F1_Results_Cluster_size_6_Omega_1.25_Lax_20_Tspan_0.0-0.09909480705097665.txt')).astype(complex)\n",
    "Res0128_1dot25_3=np.array(pd.read_csv('_F1F0_1280.008910999999999999FinF0F1_Results_Cluster_size_6_Omega_1.25_Lax_20_Tspan_0.0-0.09909480705097665.txt')).astype(complex)\n",
    "Res0128_1dot25_4=np.array(pd.read_csv('_F1F0_1280.621632FinF0F1_Results_Cluster_size_6_Omega_1.25_Lax_20_Tspan_0.0-0.09909480705097665.txt')).astype(complex)\n",
    "\n",
    "\n",
    "\n",
    "Res0300_1dot25_0=np.array(pd.read_csv('_F1F0_3000.9596629999999999FinF0F1_Results_Cluster_size_6_Omega_1.25_Lax_20_Tspan_0.0-0.1318422601530312.txt')).astype(complex)\n",
    "Res0300_1dot25_1=np.array(pd.read_csv('_F1F0_3000.977182FinF0F1_Results_Cluster_size_6_Omega_1.25_Lax_20_Tspan_0.0-0.1318422601530312.txt')).astype(complex)\n",
    "\n",
    "\n",
    "Res0600_1dot25_0=np.array(pd.read_csv('_F1F0_6000.574661FinF0F1_Results_Cluster_size_6_Omega_1.25_Lax_20_Tspan_0.0-0.12257661038148843.txt')).astype(complex)\n",
    "Res0600_1dot25_1=np.array(pd.read_csv('_F1F0_6000.146998FinF0F1_Results_Cluster_size_6_Omega_1.25_Lax_20_Tspan_0.0-0.12257661038148843.txt')).astype(complex)\n",
    "\n",
    "\n",
    "Res1000_1dot25_0=np.array(pd.read_csv('_F1F0_10000.277594FinF0F1_Results_Cluster_size_6_Omega_1.25_Lax_20_Tspan_0.0-0.13133208255159476.txt')).astype(complex)\n",
    "Res1000_1dot25_1=np.array(pd.read_csv('_F1F0_10000.9165369999999999FinF0F1_Results_Cluster_size_6_Omega_1.25_Lax_20_Tspan_0.0-0.13133208255159476.txt')).astype(complex)\n",
    "\n",
    "Res1400_1dot25_0=np.array(pd.read_csv('_F1F0_14000.716349FinF0F1_Results_Cluster_size_6_Omega_1.25_Lax_20_Tspan_0.0-0.10840560373582389.txt')).astype(complex)\n",
    "Res1400_1dot25_1=np.array(pd.read_csv('_F1F0_14000.928628FinF0F1_Results_Cluster_size_6_Omega_1.25_Lax_20_Tspan_0.0-0.10840560373582389.txt')).astype(complex)\n",
    "\n",
    "\n",
    "Res1600_1dot25_0=np.array(pd.read_csv('_F1F0_16000.058639FinF0F1_Results_Cluster_size_6_Omega_1.25_Lax_20_Tspan_0.0-0.10840560373582389.txt')).astype(complex)\n",
    "Res1600_1dot25_1=np.array(pd.read_csv('_F1F0_16000.6753319999999999FinF0F1_Results_Cluster_size_6_Omega_1.25_Lax_20_Tspan_0.0-0.10840560373582389.txt')).astype(complex)\n",
    "\n",
    "\n",
    "Res2000_1dot25_0=np.array(pd.read_csv('_F1F0_20000.8792599999999999FinF0F1_Results_Cluster_size_6_Omega_1.25_Lax_20_Tspan_0.0-0.12257661038148843.txt')).astype(complex)\n",
    "Res2000_1dot25_1=np.array(pd.read_csv('_F1F0_20000.6952809999999999FinF0F1_Results_Cluster_size_6_Omega_1.25_Lax_20_Tspan_0.0-0.11855273287143955.txt')).astype(complex)\n",
    "\n",
    "\n",
    "\n",
    "#Omega=5\n",
    "\n",
    "Res0300_5dot00_0=np.array(pd.read_csv('_F1F0_3000.675558FinF0F1_Results_Cluster_size_6_Omega_5.0_Lax_20_Tspan_0.0-0.1318422601530312.txt')).astype(complex)\n",
    "\n",
    "\n",
    "Res0600_5dot00_0=np.array(pd.read_csv('_F1F0_6000.41757099999999997FinF0F1_Results_Cluster_size_6_Omega_5.0_Lax_20_Tspan_0.0-0.12257661038148843.txt')).astype(complex)\n",
    "\n",
    "\n",
    "Res1000_5dot00_0=np.array(pd.read_csv('_F1F0_10000.867935FinF0F1_Results_Cluster_size_6_Omega_5.0_Lax_20_Tspan_0.0-0.13133208255159476.txt')).astype(complex)\n",
    "\n",
    "\n",
    "\n",
    "\n",
    "Res1200_5dot00_0=np.array(pd.read_csv('_F1F0_12000.20083099999999998FinF0F1_Results_Cluster_size_6_Omega_5.0_Lax_20_Tspan_0.0-0.13133208255159476.txt')).astype(complex)\n",
    "Res1200_5dot00_1=np.array(pd.read_csv('_F1F0_12000.958757FinF0F1_Results_Cluster_size_6_Omega_5.0_Lax_20_Tspan_0.0-0.13133208255159476.txt')).astype(complex)\n",
    "\n",
    "\n",
    "Res1600_5dot00_0=np.array(pd.read_csv('_F1F0_16000.9077839999999999FinF0F1_Results_Cluster_size_6_Omega_5.0_Lax_20_Tspan_0.0-0.10840560373582389.txt')).astype(complex)\n",
    "\n",
    "\n",
    "\n",
    "\n",
    "Res2000_5dot00_0=np.array(pd.read_csv('_F1F0_20000.7375619999999999FinF0F1_Results_Cluster_size_6_Omega_5_Lax_20_Tspan_0.0-0.1300929235167977.txt')).astype(complex)\n",
    "Res2000_5dot00_1=np.array(pd.read_csv('_F1F0_20000.973881FinF0F1_Results_Cluster_size_6_Omega_5_Lax_20_Tspan_0.0-0.1300929235167977.txt')).astype(complex)\n",
    "\n",
    "Res3000_5dot00_0=np.array(pd.read_csv('_F1F0_30000.803095FinF0F1_Results_Cluster_size_6_Omega_5.0_Lax_20_Tspan_0.0-0.12933025404157045.txt')).astype(complex)\n",
    "Res3000_5dot00_1=np.array(pd.read_csv('_F1F0_30000.9792529999999999FinF0F1_Results_Cluster_size_6_Omega_5.0_Lax_20_Tspan_0.0-0.12933025404157045.txt')).astype(complex)\n",
    "\n",
    "\n",
    "\n",
    "# _F1F0_20000.973881FinF0F1_Results_Cluster_size_6_Omega_5_Lax_20_Tspan_0.0-0.1300929235167977.txt\n",
    "\n",
    "\n",
    "\n",
    "\n",
    "#Omega=8\n",
    "\n",
    "\n",
    "\n",
    "Res0300_8dot00_0=np.array(pd.read_csv('_F1F0_3000.65675FinF0F1_Results_Cluster_size_6_Omega_8.0_Lax_20_Tspan_0.0-0.10506566604127579.txt')).astype(complex)\n",
    "\n",
    "\n",
    "Res0600_8dot00_0=np.array(pd.read_csv('_F1F0_6000.6958289999999999FinF0F1_Results_Cluster_size_6_Omega_8.0_Lax_20_Tspan_0.0-0.10506566604127579.txt')).astype(complex)\n",
    "\n",
    "\n",
    "Res0800_8dot00_0=np.array(pd.read_csv('_F1F0_8000.566784FinF0F1_Results_Cluster_size_6_Omega_8.0_Lax_20_Tspan_0.0-0.0700280112044818.txt')).astype(complex)\n",
    "Res0800_8dot00_1=np.array(pd.read_csv('_F1F0_8000.5375719999999999FinF0F1_Results_Cluster_size_6_Omega_8.0_Lax_20_Tspan_0.0-0.033606721344268856.txt')).astype(complex)\n",
    "\n",
    "Res1400_8dot00_0=np.array(pd.read_csv('_F1F0_14000.12978499999999998FinF0F1_Results_Cluster_size_6_Omega_8.0_Lax_20_Tspan_0.0-0.05516823279781752.txt')).astype(complex)\n",
    "Res1400_8dot00_1=np.array(pd.read_csv('_F1F0_14000.72646FinF0F1_Results_Cluster_size_6_Omega_8.0_Lax_20_Tspan_0.0-0.05516823279781752.txt')).astype(complex)\n",
    "\n",
    "Res0600_8dot00_0=np.array(pd.read_csv('_F1F0_8000.5375719999999999FinF0F1_Results_Cluster_size_6_Omega_8.0_Lax_20_Tspan_0.0-0.033606721344268856.txt')).astype(complex)\n",
    "\n",
    "Res0800_8dot00_0=np.array(pd.read_csv('_F1F0_8000.478938FinF0F1_Results_Cluster_size_6_Omega_8.0_Lax_20_Tspan_0.0-0.033606721344268856.txt')).astype(complex)\n",
    "Res0800_8dot00_1=np.array(pd.read_csv('_F1F0_8000.566784FinF0F1_Results_Cluster_size_6_Omega_8.0_Lax_20_Tspan_0.0-0.0700280112044818.txt')).astype(complex)\n",
    "\n",
    "Res1200_8dot00_0=np.array(pd.read_csv('_F1F0_12000.105268FinF0F1_Results_Cluster_size_6_Omega_8.0_Lax_20_Tspan_0.0-0.05951487871967991.txt')).astype(complex)\n",
    "\n",
    "#Omega=3\n",
    "\n",
    "Res0600_3dot00_0=np.array(pd.read_csv('_F1F0_6000.085852FinF0F1_Results_Cluster_size_6_Omega_3.0_Lax_20_Tspan_0.0-0.10506566604127579.txt')).astype(complex)\n",
    "Res0600_3dot00_1=np.array(pd.read_csv('_F1F0_6000.559259FinF0F1_Results_Cluster_size_6_Omega_3.0_Lax_20_Tspan_0.0-0.10506566604127579.txt')).astype(complex)\n",
    "Res0600_3dot00_2=np.array(pd.read_csv('_F1F0_6000.632829FinF0F1_Results_Cluster_size_6_Omega_3.0_Lax_20_Tspan_0.0-0.10506566604127579.txt')).astype(complex)\n",
    "Res0600_3dot00_3=np.array(pd.read_csv('_F1F0_6000.9008259999999999FinF0F1_Results_Cluster_size_6_Omega_3.0_Lax_20_Tspan_0.0-0.10506566604127579.txt')).astype(complex)\n",
    "Res0600_3dot00_4=np.array(pd.read_csv('_F1F0_6000.9329529999999999FinF0F1_Results_Cluster_size_6_Omega_3.0_Lax_20_Tspan_0.0-0.10506566604127579.txt')).astype(complex)\n",
    "\n",
    "Res0800_3dot00_0=np.array(pd.read_csv('_F1F0_8000.155059FinF0F1_Results_Cluster_size_6_Omega_3.0_Lax_20_Tspan_0.0-0.07586494372655272.txt')).astype(complex)\n",
    "Res0800_3dot00_1=np.array(pd.read_csv('_F1F0_8000.975066FinF0F1_Results_Cluster_size_6_Omega_3.0_Lax_20_Tspan_0.0-0.07586494372655272.txt')).astype(complex)\n",
    "\n",
    "\n",
    "\n",
    "Res1200_3dot00_0=np.array(pd.read_csv('_F1F0_12000.641724FinF0F1_Results_Cluster_size_6_Omega_3.0_Lax_20_Tspan_0.0-0.05951487871967991.txt')).astype(complex)\n",
    "\n",
    "\n",
    "\n",
    "Res0300_3dot00_0=np.array(pd.read_csv('_F1F0_3000.676877FinF0F1_Results_Cluster_size_6_Omega_3.0_Lax_20_Tspan_0.0-0.0770655798443868.txt')).astype(complex)\n",
    "Res0300_3dot00_1=np.array(pd.read_csv('_F1F0_3000.8049729999999999FinF0F1_Results_Cluster_size_6_Omega_3.0_Lax_20_Tspan_0.0-0.0770655798443868.txt')).astype(complex)\n",
    "Res0300_3dot00_2=np.array(pd.read_csv('_F1F0_3000.693247FinF0F1_Results_Cluster_size_6_Omega_3.0_Lax_20_Tspan_0.0-0.0770655798443868.txt')).astype(complex)\n",
    "\n",
    "\n",
    "\n",
    "\n",
    "#Omega=6\n",
    "\n",
    "\n",
    "Res0600_6dot00_2=np.array(pd.read_csv('_F1F0_6000.230133FinF0F1_Results_Cluster_size_6_Omega_6.0_Lax_20_Tspan_0.0-0.08128386827844936.txt')).astype(complex)\n",
    "\n"
   ]
  },
  {
   "cell_type": "code",
   "execution_count": 763,
   "metadata": {},
   "outputs": [
    {
     "data": {
      "text/plain": [
       "(5289.019348144531-4.744529724121094e-05j)"
      ]
     },
     "execution_count": 763,
     "metadata": {},
     "output_type": "execute_result"
    }
   ],
   "source": [
    "mean(((Res0800_3dot00_0[:,4]+Res0800_3dot00_1[:,4])/2)[-4:])"
   ]
  },
  {
   "cell_type": "code",
   "execution_count": 764,
   "metadata": {},
   "outputs": [
    {
     "data": {
      "text/plain": [
       "array([   0.        +0.00000000e+00j, 6021.97753906-2.01416016e-03j,\n",
       "       8817.45214844-9.15527344e-05j, 8254.44140625+4.46319580e-04j,\n",
       "       6016.60253906-1.02996826e-04j, 5566.39990234-8.39233398e-05j,\n",
       "       5492.72314453-2.40325928e-04j, 5406.60546875+4.48226929e-04j,\n",
       "       5341.63378906+7.62939453e-05j, 5312.23193359+1.39236450e-04j,\n",
       "       5300.24462891-1.81198120e-04j, 5292.42236328-8.96453857e-05j,\n",
       "       5285.40332031-1.39236450e-04j, 5279.38867188-1.18255615e-04j,\n",
       "       5274.66357422+2.30789185e-04j])"
      ]
     },
     "execution_count": 764,
     "metadata": {},
     "output_type": "execute_result"
    }
   ],
   "source": [
    "Res0800_3dot00_0[:,4]"
   ]
  },
  {
   "cell_type": "code",
   "execution_count": 768,
   "metadata": {},
   "outputs": [
    {
     "data": {
      "text/plain": [
       "(12620.603759765625+0.00043487548828125j)"
      ]
     },
     "execution_count": 768,
     "metadata": {},
     "output_type": "execute_result"
    }
   ],
   "source": [
    "mean(Res1200_3dot00_0[:,4][-4:])"
   ]
  },
  {
   "cell_type": "code",
   "execution_count": null,
   "metadata": {},
   "outputs": [],
   "source": []
  },
  {
   "cell_type": "code",
   "execution_count": null,
   "metadata": {},
   "outputs": [],
   "source": [
    "#3\n",
    "\n",
    "300\n",
    "781.438695\n",
    "\n",
    "600\n",
    "2953.0357\n",
    "\n",
    "\n",
    "800\n",
    "5289.0193\n",
    "\n",
    "\n",
    "1200\n",
    "12620.603759\n",
    "\n"
   ]
  },
  {
   "cell_type": "code",
   "execution_count": 769,
   "metadata": {},
   "outputs": [],
   "source": []
  },
  {
   "cell_type": "code",
   "execution_count": 726,
   "metadata": {},
   "outputs": [
    {
     "name": "stderr",
     "output_type": "stream",
     "text": [
      "C:\\Users\\camil\\anaconda3\\lib\\site-packages\\matplotlib\\cbook\\__init__.py:1317: ComplexWarning: Casting complex values to real discards the imaginary part\n",
      "  return np.asarray(x, float)\n"
     ]
    },
    {
     "data": {
      "text/plain": [
       "[<matplotlib.lines.Line2D at 0x24740fd1b50>]"
      ]
     },
     "execution_count": 726,
     "metadata": {},
     "output_type": "execute_result"
    },
    {
     "data": {
      "image/png": "[encoded data removed]",
      "text/plain": [
       "<Figure size 792x576 with 1 Axes>"
      ]
     },
     "metadata": {
      "needs_background": "light"
     },
     "output_type": "display_data"
    }
   ],
   "source": [
    "plt.plot(Res1200_3dot00_0[:,4])"
   ]
  },
  {
   "cell_type": "code",
   "execution_count": 729,
   "metadata": {},
   "outputs": [
    {
     "data": {
      "text/plain": [
       "(12620.603759765625+0.00043487548828125j)"
      ]
     },
     "execution_count": 729,
     "metadata": {},
     "output_type": "execute_result"
    }
   ],
   "source": [
    "mean(Res1200_3dot00_0[:,4][-4:])"
   ]
  },
  {
   "cell_type": "code",
   "execution_count": null,
   "metadata": {},
   "outputs": [],
   "source": [
    "\n",
    "#8\n",
    "\n",
    "1200\n",
    "2040.980\n",
    "\n",
    "1400\n",
    "2679.916\n",
    "\n",
    "#3\n",
    "\n",
    "1200\n",
    "12620.6037\n",
    "\n"
   ]
  },
  {
   "cell_type": "code",
   "execution_count": null,
   "metadata": {},
   "outputs": [],
   "source": []
  },
  {
   "cell_type": "code",
   "execution_count": 681,
   "metadata": {},
   "outputs": [
    {
     "name": "stderr",
     "output_type": "stream",
     "text": [
      "C:\\Users\\camil\\anaconda3\\lib\\site-packages\\matplotlib\\cbook\\__init__.py:1317: ComplexWarning: Casting complex values to real discards the imaginary part\n",
      "  return np.asarray(x, float)\n"
     ]
    },
    {
     "data": {
      "text/plain": [
       "[<matplotlib.lines.Line2D at 0x247445aca30>]"
      ]
     },
     "execution_count": 681,
     "metadata": {},
     "output_type": "execute_result"
    },
    {
     "data": {
      "image/png": "[encoded data removed]",
      "text/plain": [
       "<Figure size 792x576 with 1 Axes>"
      ]
     },
     "metadata": {
      "needs_background": "light"
     },
     "output_type": "display_data"
    }
   ],
   "source": [
    "plt.plot(Res2000_1dot25_1[:,4][-4:])"
   ]
  },
  {
   "cell_type": "code",
   "execution_count": null,
   "metadata": {},
   "outputs": [],
   "source": []
  },
  {
   "cell_type": "code",
   "execution_count": null,
   "metadata": {},
   "outputs": [],
   "source": []
  },
  {
   "cell_type": "code",
   "execution_count": 682,
   "metadata": {},
   "outputs": [
    {
     "data": {
      "text/plain": [
       "array([2953.37822266-8.48770142e-06j, 2951.55512695+7.05718994e-06j,\n",
       "       2950.3668457 -4.57763672e-06j])"
      ]
     },
     "execution_count": 682,
     "metadata": {},
     "output_type": "execute_result"
    }
   ],
   "source": [
    "((Res0600_3dot00_0+Res0600_3dot00_1+Res0600_3dot00_2+Res0600_3dot00_3+Res0600_3dot00_4)/5)[:,4][-3:]"
   ]
  },
  {
   "cell_type": "code",
   "execution_count": 683,
   "metadata": {},
   "outputs": [
    {
     "data": {
      "text/plain": [
       "array([2961.40307617+7.62939453e-06j, 2959.97045898+4.76837158e-06j,\n",
       "       2958.92675781+4.29153442e-06j])"
      ]
     },
     "execution_count": 683,
     "metadata": {},
     "output_type": "execute_result"
    }
   ],
   "source": [
    "((Res0600_3dot00_0))[:,4][-3:]"
   ]
  },
  {
   "cell_type": "code",
   "execution_count": 684,
   "metadata": {},
   "outputs": [
    {
     "data": {
      "text/plain": [
       "array([2928.86523438-3.05175781e-05j, 2926.58544922-2.38418579e-05j,\n",
       "       2925.23095703-4.33921814e-05j])"
      ]
     },
     "execution_count": 684,
     "metadata": {},
     "output_type": "execute_result"
    }
   ],
   "source": [
    "((Res0600_3dot00_1))[:,4][-3:]"
   ]
  },
  {
   "cell_type": "code",
   "execution_count": 685,
   "metadata": {},
   "outputs": [
    {
     "data": {
      "text/plain": [
       "array([2960.43164062+2.76565552e-05j, 2958.640625  +8.44001770e-05j,\n",
       "       2957.54296875-2.76565552e-05j])"
      ]
     },
     "execution_count": 685,
     "metadata": {},
     "output_type": "execute_result"
    }
   ],
   "source": [
    "((Res0600_3dot00_2))[:,4][-3:]"
   ]
  },
  {
   "cell_type": "code",
   "execution_count": 686,
   "metadata": {},
   "outputs": [
    {
     "data": {
      "text/plain": [
       "array([2953.22729492+2.81333923e-05j, 2951.41601562-4.72068787e-05j,\n",
       "       2950.24169922+5.72204590e-05j])"
      ]
     },
     "execution_count": 686,
     "metadata": {},
     "output_type": "execute_result"
    }
   ],
   "source": [
    "((Res0600_3dot00_3))[:,4][-3:]"
   ]
  },
  {
   "cell_type": "code",
   "execution_count": 687,
   "metadata": {},
   "outputs": [
    {
     "name": "stderr",
     "output_type": "stream",
     "text": [
      "C:\\Users\\camil\\anaconda3\\lib\\site-packages\\matplotlib\\cbook\\__init__.py:1317: ComplexWarning: Casting complex values to real discards the imaginary part\n",
      "  return np.asarray(x, float)\n"
     ]
    },
    {
     "data": {
      "text/plain": [
       "[<matplotlib.lines.Line2D at 0x247444f74f0>]"
      ]
     },
     "execution_count": 687,
     "metadata": {},
     "output_type": "execute_result"
    },
    {
     "data": {
      "image/png": "[encoded data removed]",
      "text/plain": [
       "<Figure size 792x576 with 1 Axes>"
      ]
     },
     "metadata": {
      "needs_background": "light"
     },
     "output_type": "display_data"
    }
   ],
   "source": [
    "plt.plot(Res0300_8dot00_0[:,0],Res0300_8dot00_0[:,4])"
   ]
  },
  {
   "cell_type": "code",
   "execution_count": 688,
   "metadata": {},
   "outputs": [
    {
     "name": "stderr",
     "output_type": "stream",
     "text": [
      "C:\\Users\\camil\\anaconda3\\lib\\site-packages\\matplotlib\\cbook\\__init__.py:1317: ComplexWarning: Casting complex values to real discards the imaginary part\n",
      "  return np.asarray(x, float)\n",
      "C:\\Users\\camil\\anaconda3\\lib\\site-packages\\matplotlib\\cbook\\__init__.py:1317: ComplexWarning: Casting complex values to real discards the imaginary part\n",
      "  return np.asarray(x, float)\n"
     ]
    },
    {
     "data": {
      "text/plain": [
       "[<matplotlib.lines.Line2D at 0x247444f9ee0>]"
      ]
     },
     "execution_count": 688,
     "metadata": {},
     "output_type": "execute_result"
    },
    {
     "data": {
      "image/png": "[encoded data removed]",
      "text/plain": [
       "<Figure size 792x576 with 1 Axes>"
      ]
     },
     "metadata": {
      "needs_background": "light"
     },
     "output_type": "display_data"
    }
   ],
   "source": [
    "plt.plot(Res0600_3dot00_0[:,0],Res0600_3dot00_0[:,4])\n",
    "plt.plot(Res0600_3dot00_1[:,0],Res0600_3dot00_1[:,4])"
   ]
  },
  {
   "cell_type": "code",
   "execution_count": 689,
   "metadata": {},
   "outputs": [
    {
     "data": {
      "text/plain": [
       "array([    0.        +0.00000000e+00j,  2232.98779297-9.91821289e-04j,\n",
       "       13856.95507812+1.88446045e-03j,  4127.21728516+9.53674316e-05j,\n",
       "        1974.73413086+2.11715698e-04j,  3180.39233398+7.82012939e-05j,\n",
       "        3211.10498047-2.86102295e-05j,  2923.73486328-1.23977661e-05j,\n",
       "        2935.10498047-5.24520874e-05j,  2959.00610352-3.81469727e-06j,\n",
       "        2941.47705078-1.43051147e-05j,  2933.95092773-4.29153442e-05j,\n",
       "        2932.17529297+1.23977661e-05j,  2928.86523438-3.05175781e-05j,\n",
       "        2926.58544922-2.38418579e-05j,  2925.23095703-4.33921814e-05j])"
      ]
     },
     "execution_count": 689,
     "metadata": {},
     "output_type": "execute_result"
    }
   ],
   "source": [
    "Res0600_3dot00_1[:,4]"
   ]
  },
  {
   "cell_type": "code",
   "execution_count": null,
   "metadata": {},
   "outputs": [],
   "source": []
  },
  {
   "cell_type": "code",
   "execution_count": null,
   "metadata": {},
   "outputs": [],
   "source": []
  },
  {
   "cell_type": "code",
   "execution_count": null,
   "metadata": {},
   "outputs": [],
   "source": []
  },
  {
   "cell_type": "code",
   "execution_count": null,
   "metadata": {},
   "outputs": [],
   "source": []
  },
  {
   "cell_type": "code",
   "execution_count": null,
   "metadata": {},
   "outputs": [],
   "source": []
  },
  {
   "cell_type": "code",
   "execution_count": null,
   "metadata": {},
   "outputs": [],
   "source": []
  },
  {
   "cell_type": "code",
   "execution_count": null,
   "metadata": {},
   "outputs": [],
   "source": []
  },
  {
   "cell_type": "code",
   "execution_count": 690,
   "metadata": {},
   "outputs": [],
   "source": [
    "#http://localhost:8888/notebooks/Desktop/Intensity_Scaling/Inten_Scaling.ipynb"
   ]
  },
  {
   "cell_type": "code",
   "execution_count": 691,
   "metadata": {},
   "outputs": [
    {
     "name": "stderr",
     "output_type": "stream",
     "text": [
      "C:\\Users\\camil\\anaconda3\\lib\\site-packages\\matplotlib\\cbook\\__init__.py:1317: ComplexWarning: Casting complex values to real discards the imaginary part\n",
      "  return np.asarray(x, float)\n"
     ]
    },
    {
     "data": {
      "text/plain": [
       "[<matplotlib.lines.Line2D at 0x2474456d970>]"
      ]
     },
     "execution_count": 691,
     "metadata": {},
     "output_type": "execute_result"
    },
    {
     "data": {
      "image/png": "[encoded data removed]",
      "text/plain": [
       "<Figure size 792x576 with 1 Axes>"
      ]
     },
     "metadata": {
      "needs_background": "light"
     },
     "output_type": "display_data"
    }
   ],
   "source": [
    "plt.plot(Res1600_5dot00_0[:,0],Res1600_5dot00_0[:,4])\n"
   ]
  },
  {
   "cell_type": "code",
   "execution_count": 692,
   "metadata": {},
   "outputs": [
    {
     "data": {
      "text/plain": [
       "(7760.7193603515625-0.00016546249389648438j)"
      ]
     },
     "execution_count": 692,
     "metadata": {},
     "output_type": "execute_result"
    }
   ],
   "source": [
    "mean(Res1600_5dot00_0[:,4][-4:])"
   ]
  },
  {
   "cell_type": "code",
   "execution_count": 693,
   "metadata": {},
   "outputs": [
    {
     "name": "stderr",
     "output_type": "stream",
     "text": [
      "C:\\Users\\camil\\anaconda3\\lib\\site-packages\\matplotlib\\cbook\\__init__.py:1317: ComplexWarning: Casting complex values to real discards the imaginary part\n",
      "  return np.asarray(x, float)\n"
     ]
    },
    {
     "data": {
      "text/plain": [
       "[<matplotlib.lines.Line2D at 0x24740f95c10>]"
      ]
     },
     "execution_count": 693,
     "metadata": {},
     "output_type": "execute_result"
    },
    {
     "data": {
      "image/png": "[encoded data removed]",
      "text/plain": [
       "<Figure size 792x576 with 1 Axes>"
      ]
     },
     "metadata": {
      "needs_background": "light"
     },
     "output_type": "display_data"
    }
   ],
   "source": [
    "plt.plot(Res1400_1dot25_0[:,0],(Res1400_1dot25_0[:,4]+Res1400_1dot25_1[:,4])/2)\n",
    "\n",
    "\n"
   ]
  },
  {
   "cell_type": "code",
   "execution_count": 694,
   "metadata": {},
   "outputs": [
    {
     "data": {
      "text/plain": [
       "(55724.69921875-0.009521484375j)"
      ]
     },
     "execution_count": 694,
     "metadata": {},
     "output_type": "execute_result"
    }
   ],
   "source": [
    "mean(Res1400_1dot25_0[:,4][-4:])"
   ]
  },
  {
   "cell_type": "code",
   "execution_count": null,
   "metadata": {},
   "outputs": [],
   "source": []
  },
  {
   "cell_type": "code",
   "execution_count": 695,
   "metadata": {},
   "outputs": [
    {
     "data": {
      "text/plain": [
       "(56161.15673828125-0.013885498046875j)"
      ]
     },
     "execution_count": 695,
     "metadata": {},
     "output_type": "execute_result"
    }
   ],
   "source": [
    "mean(((Res1400_1dot25_0[:,4]+Res1400_1dot25_1[:,4])/2)[-4:])"
   ]
  },
  {
   "cell_type": "code",
   "execution_count": null,
   "metadata": {},
   "outputs": [],
   "source": []
  },
  {
   "cell_type": "code",
   "execution_count": null,
   "metadata": {},
   "outputs": [],
   "source": []
  },
  {
   "cell_type": "code",
   "execution_count": 561,
   "metadata": {},
   "outputs": [
    {
     "data": {
      "text/plain": [
       "(75617.126953125-0.01568603515625j)"
      ]
     },
     "execution_count": 561,
     "metadata": {},
     "output_type": "execute_result"
    }
   ],
   "source": [
    "mean(Res2000_1dot25_0[:,4][-4:])"
   ]
  },
  {
   "cell_type": "code",
   "execution_count": null,
   "metadata": {},
   "outputs": [],
   "source": []
  },
  {
   "cell_type": "code",
   "execution_count": null,
   "metadata": {},
   "outputs": [],
   "source": []
  },
  {
   "cell_type": "code",
   "execution_count": 562,
   "metadata": {},
   "outputs": [],
   "source": [
    "import matplotlib.pyplot as plt\n",
    "import numpy as np\n",
    "from numpy.random import multivariate_normal, normal\n",
    "\n",
    "\"\"\"In order to provide a better presentation of the graphs we use the rcParams options shown below.\"\"\"\n",
    "\n",
    "import matplotlib\n",
    "matplotlib.rcParams['text.usetex'] = False\n",
    "matplotlib.rcParams['mathtext.fontset'] = 'stix'\n",
    "matplotlib.rcParams['font.family'] = 'STIXGeneral'\n",
    "matplotlib.rcParams['font.size'] = 15\n",
    "matplotlib.rcParams['figure.figsize'] = (11.0, 8.0)\n",
    "\n",
    "from numpy import cos, sin\n",
    "\n",
    "\n",
    "label_size = 20"
   ]
  },
  {
   "cell_type": "code",
   "execution_count": null,
   "metadata": {},
   "outputs": [],
   "source": []
  },
  {
   "cell_type": "code",
   "execution_count": null,
   "metadata": {},
   "outputs": [],
   "source": []
  },
  {
   "cell_type": "markdown",
   "metadata": {},
   "source": [
    "# $\\Omega=1.25\\Gamma$"
   ]
  },
  {
   "cell_type": "code",
   "execution_count": 563,
   "metadata": {},
   "outputs": [
    {
     "data": {
      "text/plain": [
       "(43604.33723958333-0.0032958984375j)"
      ]
     },
     "execution_count": 563,
     "metadata": {},
     "output_type": "execute_result"
    }
   ],
   "source": [
    "mean((Res1000_1dot25_0[:,4][-3:]+Res1000_1dot25_1[:,4][-3:])/2)"
   ]
  },
  {
   "cell_type": "code",
   "execution_count": 564,
   "metadata": {},
   "outputs": [
    {
     "data": {
      "text/plain": [
       "(662.1744140625+2.781550089518229e-07j)"
      ]
     },
     "execution_count": 564,
     "metadata": {},
     "output_type": "execute_result"
    }
   ],
   "source": [
    "mean((Res0128_1dot25_0[:,4][-3:]+Res0128_1dot25_1[:,4][-3:]+Res0128_1dot25_2[:,4][-3:]+Res0128_1dot25_3[:,4][-3:]+Res0128_1dot25_4[:,4][-3:])/5)"
   ]
  },
  {
   "cell_type": "code",
   "execution_count": null,
   "metadata": {},
   "outputs": [],
   "source": []
  },
  {
   "cell_type": "code",
   "execution_count": 565,
   "metadata": {},
   "outputs": [
    {
     "name": "stderr",
     "output_type": "stream",
     "text": [
      "C:\\Users\\camil\\anaconda3\\lib\\site-packages\\matplotlib\\cbook\\__init__.py:1317: ComplexWarning: Casting complex values to real discards the imaginary part\n",
      "  return np.asarray(x, float)\n"
     ]
    },
    {
     "data": {
      "text/plain": [
       "[<matplotlib.lines.Line2D at 0x2473dfa6940>]"
      ]
     },
     "execution_count": 565,
     "metadata": {},
     "output_type": "execute_result"
    },
    {
     "data": {
      "image/png": "[encoded data removed]",
      "text/plain": [
       "<Figure size 792x576 with 1 Axes>"
      ]
     },
     "metadata": {
      "needs_background": "light"
     },
     "output_type": "display_data"
    }
   ],
   "source": [
    "plt.plot(Res2000_5dot00_0[:,0],Res2000_5dot00_0[:,4])"
   ]
  },
  {
   "cell_type": "code",
   "execution_count": 566,
   "metadata": {},
   "outputs": [
    {
     "data": {
      "text/plain": [
       "(12189.642903645832-8.392333984375e-05j)"
      ]
     },
     "execution_count": 566,
     "metadata": {},
     "output_type": "execute_result"
    }
   ],
   "source": [
    "mean(Res2000_5dot00_0[:,4][-3:])"
   ]
  },
  {
   "cell_type": "code",
   "execution_count": 567,
   "metadata": {},
   "outputs": [
    {
     "name": "stderr",
     "output_type": "stream",
     "text": [
      "C:\\Users\\camil\\anaconda3\\lib\\site-packages\\matplotlib\\cbook\\__init__.py:1317: ComplexWarning: Casting complex values to real discards the imaginary part\n",
      "  return np.asarray(x, float)\n"
     ]
    },
    {
     "data": {
      "text/plain": [
       "[<matplotlib.lines.Line2D at 0x2473dfd8d00>]"
      ]
     },
     "execution_count": 567,
     "metadata": {},
     "output_type": "execute_result"
    },
    {
     "data": {
      "image/png": "[encoded data removed]",
      "text/plain": [
       "<Figure size 792x576 with 1 Axes>"
      ]
     },
     "metadata": {
      "needs_background": "light"
     },
     "output_type": "display_data"
    }
   ],
   "source": [
    "plt.plot(Res1000_1dot25_0[:,0],Res1000_1dot25_0[:,4])"
   ]
  },
  {
   "cell_type": "code",
   "execution_count": 568,
   "metadata": {},
   "outputs": [
    {
     "name": "stderr",
     "output_type": "stream",
     "text": [
      "C:\\Users\\camil\\anaconda3\\lib\\site-packages\\matplotlib\\cbook\\__init__.py:1317: ComplexWarning: Casting complex values to real discards the imaginary part\n",
      "  return np.asarray(x, float)\n"
     ]
    },
    {
     "data": {
      "text/plain": [
       "[<matplotlib.lines.Line2D at 0x247388ab340>]"
      ]
     },
     "execution_count": 568,
     "metadata": {},
     "output_type": "execute_result"
    },
    {
     "data": {
      "image/png": "[encoded data removed]",
      "text/plain": [
       "<Figure size 792x576 with 1 Axes>"
      ]
     },
     "metadata": {
      "needs_background": "light"
     },
     "output_type": "display_data"
    }
   ],
   "source": [
    "plt.plot(Res0300_1dot25_0[:,0],Res0300_1dot25_0[:,4])"
   ]
  },
  {
   "cell_type": "code",
   "execution_count": 569,
   "metadata": {},
   "outputs": [
    {
     "data": {
      "text/plain": [
       "(44354.234375+0.003377278645833333j)"
      ]
     },
     "execution_count": 569,
     "metadata": {},
     "output_type": "execute_result"
    }
   ],
   "source": [
    "mean(Res1000_1dot25_0[:,4][-3:])"
   ]
  },
  {
   "cell_type": "code",
   "execution_count": 570,
   "metadata": {},
   "outputs": [
    {
     "data": {
      "text/plain": [
       "array([44363.09375   +0.01672363j, 44344.87890625-0.00476074j,\n",
       "       44376.2421875 +0.0045166j , 44341.58203125+0.01037598j])"
      ]
     },
     "execution_count": 570,
     "metadata": {},
     "output_type": "execute_result"
    }
   ],
   "source": [
    "Res1000_1dot25_0[:,4][-4:]"
   ]
  },
  {
   "cell_type": "code",
   "execution_count": 571,
   "metadata": {},
   "outputs": [
    {
     "name": "stderr",
     "output_type": "stream",
     "text": [
      "C:\\Users\\camil\\anaconda3\\lib\\site-packages\\matplotlib\\cbook\\__init__.py:1317: ComplexWarning: Casting complex values to real discards the imaginary part\n",
      "  return np.asarray(x, float)\n",
      "C:\\Users\\camil\\anaconda3\\lib\\site-packages\\matplotlib\\cbook\\__init__.py:1317: ComplexWarning: Casting complex values to real discards the imaginary part\n",
      "  return np.asarray(x, float)\n"
     ]
    },
    {
     "data": {
      "text/plain": [
       "[<matplotlib.lines.Line2D at 0x2473e6dd490>]"
      ]
     },
     "execution_count": 571,
     "metadata": {},
     "output_type": "execute_result"
    },
    {
     "data": {
      "image/png": "[encoded data removed]",
      "text/plain": [
       "<Figure size 792x576 with 1 Axes>"
      ]
     },
     "metadata": {
      "needs_background": "light"
     },
     "output_type": "display_data"
    }
   ],
   "source": [
    "plt.plot(Res1600_1dot25_0[:,0],Res1600_1dot25_0[:,4])\n",
    "plt.plot(Res1600_1dot25_1[:,0],Res1600_1dot25_1[:,4])"
   ]
  },
  {
   "cell_type": "code",
   "execution_count": null,
   "metadata": {},
   "outputs": [],
   "source": []
  },
  {
   "cell_type": "code",
   "execution_count": 572,
   "metadata": {},
   "outputs": [
    {
     "data": {
      "text/plain": [
       "(20425.12890625+0.000579833984375j)"
      ]
     },
     "execution_count": 572,
     "metadata": {},
     "output_type": "execute_result"
    }
   ],
   "source": [
    "mean(((Res0600_1dot25_0[:,4]+Res0600_1dot25_1[:,4])/2)[-3:])"
   ]
  },
  {
   "cell_type": "code",
   "execution_count": 573,
   "metadata": {},
   "outputs": [
    {
     "data": {
      "text/plain": [
       "array([20464.2265625 +0.00061035j, 20443.22460938-0.00061035j,\n",
       "       20430.10546875+0.00193787j, 20427.0390625 -0.00172424j,\n",
       "       20418.2421875 +0.00152588j])"
      ]
     },
     "execution_count": 573,
     "metadata": {},
     "output_type": "execute_result"
    }
   ],
   "source": [
    "((Res0600_1dot25_0[:,4]+Res0600_1dot25_1[:,4])/2)[-5:]"
   ]
  },
  {
   "cell_type": "code",
   "execution_count": 574,
   "metadata": {},
   "outputs": [
    {
     "name": "stderr",
     "output_type": "stream",
     "text": [
      "C:\\Users\\camil\\anaconda3\\lib\\site-packages\\matplotlib\\cbook\\__init__.py:1317: ComplexWarning: Casting complex values to real discards the imaginary part\n",
      "  return np.asarray(x, float)\n"
     ]
    },
    {
     "data": {
      "text/plain": [
       "[<matplotlib.lines.Line2D at 0x2473dddb610>]"
      ]
     },
     "execution_count": 574,
     "metadata": {},
     "output_type": "execute_result"
    },
    {
     "data": {
      "image/png": "[encoded data removed]",
      "text/plain": [
       "<Figure size 792x576 with 1 Axes>"
      ]
     },
     "metadata": {
      "needs_background": "light"
     },
     "output_type": "display_data"
    }
   ],
   "source": [
    "plt.plot(Res0600_1dot25_0[:,0],((Res0600_1dot25_0[:,4]+Res0600_1dot25_1[:,4])/2))"
   ]
  },
  {
   "cell_type": "code",
   "execution_count": null,
   "metadata": {},
   "outputs": [],
   "source": []
  },
  {
   "cell_type": "code",
   "execution_count": 575,
   "metadata": {},
   "outputs": [
    {
     "data": {
      "text/plain": [
       "(20425.12890625+0.000579833984375j)"
      ]
     },
     "execution_count": 575,
     "metadata": {},
     "output_type": "execute_result"
    }
   ],
   "source": [
    "mean((Res0600_1dot25_0[:,4][-3:]+Res0600_1dot25_1[:,4][-3:])/2)"
   ]
  },
  {
   "cell_type": "code",
   "execution_count": 618,
   "metadata": {},
   "outputs": [
    {
     "name": "stderr",
     "output_type": "stream",
     "text": [
      "No handles with labels found to put in legend.\n"
     ]
    },
    {
     "data": {
      "text/plain": [
       "<matplotlib.legend.Legend at 0x2473fadf2b0>"
      ]
     },
     "execution_count": 618,
     "metadata": {},
     "output_type": "execute_result"
    },
    {
     "data": {
      "image/png": "[encoded data removed]",
      "text/plain": [
       "<Figure size 792x576 with 1 Axes>"
      ]
     },
     "metadata": {
      "needs_background": "light"
     },
     "output_type": "display_data"
    }
   ],
   "source": [
    "\n",
    "Nbar_atom=np.log(np.array([128,300,600,1000,1400,1600,2000]))\n",
    "Int_st=np.log(array([662.1744,4011.3202,20425.1289,43604.33723,56161.15673,63906.016276,75617.1269]))\n",
    "\n",
    "plt.scatter((array(Nbar_atom)),(array(Int_st)))\n",
    "\n",
    "\n",
    "plt.xlabel(\"$N$\")\n",
    "\n",
    "\n",
    "plt.legend()"
   ]
  },
  {
   "cell_type": "code",
   "execution_count": null,
   "metadata": {},
   "outputs": [],
   "source": []
  },
  {
   "cell_type": "code",
   "execution_count": null,
   "metadata": {},
   "outputs": [],
   "source": []
  },
  {
   "cell_type": "code",
   "execution_count": 619,
   "metadata": {},
   "outputs": [],
   "source": [
    "Nbar_atom=(np.array([128,300,600,1000,1400,1600,2000]))\n",
    "Int_st   =(array([662.1744,4011.3202,20425.1289,43604.33723,56161.15673,63906.016276,75617.1269]))\n"
   ]
  },
  {
   "cell_type": "code",
   "execution_count": 620,
   "metadata": {},
   "outputs": [
    {
     "data": {
      "image/png": "[encoded data removed]",
      "text/plain": [
       "<Figure size 792x576 with 1 Axes>"
      ]
     },
     "metadata": {
      "needs_background": "light"
     },
     "output_type": "display_data"
    }
   ],
   "source": [
    "plt.title(\"Intensity vs N, 3D, $\\Omega=1.25\\Gamma$, $\\sigma_{x}=20\\lambda$, $\\sigma_{r}=0.5\\lambda$\",fontsize=1.3*fontsize)\n",
    "\n",
    "plt.ylabel(r'$I=\\left< \\hat{S}_p^{+}\\hat{S}_p^{-} \\right>$',fontsize=fontsize)\n",
    "plt.xlabel(r'$N$',fontsize=fontsize)\n",
    "\n",
    "plt.scatter(Nbar_atom,Int_st,label=\"$I_{\\\\rm{est}}$ CMFT, Cluster size=$6$, Realizations$\\geq2$\")\n",
    "plt.plot(Nbar_atom,22.4300*((Nbar_atom)**1.077534),label=\"$I_{\\\\rm{est}}=22.747N^{1.077}$\")\n",
    "\n",
    "\n",
    "plt.legend()\n",
    "\n",
    "plt.xlim(500,2100)\n",
    "plt.ylim(18000,82000)\n",
    "\n",
    "plt.xscale(\"log\")\n",
    "plt.yscale(\"log\")"
   ]
  },
  {
   "cell_type": "code",
   "execution_count": 621,
   "metadata": {},
   "outputs": [
    {
     "data": {
      "text/plain": [
       "array([ 1451.53128929,  5305.19665561, 15232.22818167, 33138.99502534,\n",
       "       55296.14976986, 67754.51997623, 95148.35485001])"
      ]
     },
     "execution_count": 621,
     "metadata": {},
     "output_type": "execute_result"
    }
   ],
   "source": [
    "0.90238684149*((Nbar_atom)**1.52164886)"
   ]
  },
  {
   "cell_type": "code",
   "execution_count": 622,
   "metadata": {},
   "outputs": [
    {
     "data": {
      "text/plain": [
       "0.000284467780391583"
      ]
     },
     "execution_count": 622,
     "metadata": {},
     "output_type": "execute_result"
    }
   ],
   "source": [
    "0.90238684149*((0.005)**1.52164886)"
   ]
  },
  {
   "cell_type": "code",
   "execution_count": 623,
   "metadata": {},
   "outputs": [
    {
     "data": {
      "text/plain": [
       "22.747040538778442"
      ]
     },
     "execution_count": 623,
     "metadata": {},
     "output_type": "execute_result"
    }
   ],
   "source": [
    "exp(3.124435050727474)"
   ]
  },
  {
   "cell_type": "code",
   "execution_count": null,
   "metadata": {},
   "outputs": [],
   "source": []
  },
  {
   "cell_type": "code",
   "execution_count": 624,
   "metadata": {},
   "outputs": [
    {
     "data": {
      "text/plain": [
       "array([1000, 1400, 1600, 2000])"
      ]
     },
     "execution_count": 624,
     "metadata": {},
     "output_type": "execute_result"
    }
   ],
   "source": [
    "Nbar_atom[-4:]"
   ]
  },
  {
   "cell_type": "code",
   "execution_count": 625,
   "metadata": {},
   "outputs": [
    {
     "name": "stdout",
     "output_type": "stream",
     "text": [
      "coefficient of determination: 0.9735648733981858\n",
      "intercept: 3.1032250035228373\n",
      "slope: [1.07876479]\n",
      "Predicted response:\n",
      "[10.00400746 10.55506816 10.91804256 11.06209152 11.30281093]\n"
     ]
    }
   ],
   "source": [
    "# Import the packages and classes needed in this example:\n",
    "import numpy as np\n",
    "from sklearn.linear_model import LinearRegression\n",
    "\n",
    "# Create a numpy array of data:\n",
    "x = np.log(np.array(Nbar_atom[-5:]).reshape((-1, 1)))\n",
    "y = np.log(np.array(Int_st[-5:]))\n",
    "\n",
    "# Create an instance of a linear regression model and fit it to the data with the fit() function:\n",
    "model = LinearRegression().fit(x, y) \n",
    "\n",
    "# The following section will get results by interpreting the created instance: \n",
    "\n",
    "# Obtain the coefficient of determination by calling the model with the score() function, then print the coefficient:\n",
    "r_sq = model.score(x, y)\n",
    "print('coefficient of determination:', r_sq)\n",
    "\n",
    "# Print the Intercept:\n",
    "print('intercept:', model.intercept_)\n",
    "\n",
    "# Print the Slope:\n",
    "print('slope:', model.coef_) \n",
    "\n",
    "# Predict a Response and print it:\n",
    "y_pred = model.predict(x)\n",
    "print('Predicted response:', y_pred, sep='\\n')"
   ]
  },
  {
   "cell_type": "code",
   "execution_count": null,
   "metadata": {},
   "outputs": [],
   "source": []
  },
  {
   "cell_type": "code",
   "execution_count": 626,
   "metadata": {},
   "outputs": [
    {
     "data": {
      "text/plain": [
       "22.269655313191112"
      ]
     },
     "execution_count": 626,
     "metadata": {},
     "output_type": "execute_result"
    }
   ],
   "source": [
    "np.exp(3.10322500352)"
   ]
  },
  {
   "cell_type": "code",
   "execution_count": null,
   "metadata": {},
   "outputs": [],
   "source": []
  },
  {
   "cell_type": "code",
   "execution_count": null,
   "metadata": {},
   "outputs": [],
   "source": []
  },
  {
   "cell_type": "code",
   "execution_count": null,
   "metadata": {},
   "outputs": [],
   "source": []
  },
  {
   "cell_type": "code",
   "execution_count": null,
   "metadata": {},
   "outputs": [],
   "source": []
  },
  {
   "cell_type": "code",
   "execution_count": 422,
   "metadata": {},
   "outputs": [
    {
     "data": {
      "text/plain": [
       "array([4.85203026, 5.70378247, 6.39692966, 6.90775528, 7.37775891,\n",
       "       7.60090246])"
      ]
     },
     "execution_count": 422,
     "metadata": {},
     "output_type": "execute_result"
    }
   ],
   "source": [
    "Nbar_atom[-6:]"
   ]
  },
  {
   "cell_type": "code",
   "execution_count": null,
   "metadata": {},
   "outputs": [],
   "source": []
  },
  {
   "cell_type": "code",
   "execution_count": null,
   "metadata": {},
   "outputs": [],
   "source": []
  },
  {
   "cell_type": "code",
   "execution_count": 420,
   "metadata": {},
   "outputs": [
    {
     "name": "stdout",
     "output_type": "stream",
     "text": [
      "coefficient of determination: 0.950058136350492\n",
      "intercept: 0.32881086184908215\n",
      "slope: [1.0420503]\n",
      "Predicted response:\n",
      "[2.14315543 2.26266671 2.34272389 2.41131705 2.44236708]\n"
     ]
    }
   ],
   "source": [
    "# Import the packages and classes needed in this example:\n",
    "import numpy as np\n",
    "from sklearn.linear_model import LinearRegression\n",
    "\n",
    "# Create a numpy array of data:\n",
    "x = np.log(np.array(Nbar_atom[-5:]).reshape((-1, 1)))\n",
    "y = np.log(np.array(Int_st[-5:]))\n",
    "\n",
    "# Create an instance of a linear regression model and fit it to the data with the fit() function:\n",
    "model = LinearRegression().fit(x, y) \n",
    "\n",
    "# The following section will get results by interpreting the created instance: \n",
    "\n",
    "# Obtain the coefficient of determination by calling the model with the score() function, then print the coefficient:\n",
    "r_sq = model.score(x, y)\n",
    "print('coefficient of determination:', r_sq)\n",
    "\n",
    "# Print the Intercept:\n",
    "print('intercept:', model.intercept_)\n",
    "\n",
    "# Print the Slope:\n",
    "print('slope:', model.coef_) \n",
    "\n",
    "# Predict a Response and print it:\n",
    "y_pred = model.predict(x)\n",
    "print('Predicted response:', y_pred, sep='\\n')"
   ]
  },
  {
   "cell_type": "code",
   "execution_count": 424,
   "metadata": {},
   "outputs": [
    {
     "data": {
      "text/plain": [
       "1.389315055685775"
      ]
     },
     "execution_count": 424,
     "metadata": {},
     "output_type": "execute_result"
    }
   ],
   "source": [
    "np.exp(0.32881086)"
   ]
  },
  {
   "cell_type": "code",
   "execution_count": 425,
   "metadata": {},
   "outputs": [
    {
     "data": {
      "text/plain": [
       "array([ 8.52629934,  9.60867853, 10.4095524 , 11.14863469, 11.50023052])"
      ]
     },
     "execution_count": 425,
     "metadata": {},
     "output_type": "execute_result"
    }
   ],
   "source": [
    "1.389315055685775*( (np.array(Nbar_atom[-5:]))**1.0420503 )"
   ]
  },
  {
   "cell_type": "code",
   "execution_count": null,
   "metadata": {},
   "outputs": [],
   "source": []
  },
  {
   "cell_type": "code",
   "execution_count": null,
   "metadata": {},
   "outputs": [],
   "source": []
  },
  {
   "cell_type": "code",
   "execution_count": 364,
   "metadata": {},
   "outputs": [],
   "source": [
    "Nbar=np.linspace(0,8,10)"
   ]
  },
  {
   "cell_type": "code",
   "execution_count": 365,
   "metadata": {},
   "outputs": [],
   "source": [
    "Est_bar=-6364.607366660846+9064.6093627*Nbar"
   ]
  },
  {
   "cell_type": "code",
   "execution_count": 366,
   "metadata": {},
   "outputs": [
    {
     "name": "stdout",
     "output_type": "stream",
     "text": [
      "0.9866748159152182\n"
     ]
    }
   ],
   "source": [
    "import numpy\n",
    "from sklearn.metrics import r2_score\n",
    "\n",
    "\n",
    "\n",
    "Nbar_atom=(np.array([128,300,600,1000,1600]))\n",
    "Int_st=array([662.1744,4011.3202,20425.1289,43604.33723,63906.016276])\n",
    "\n",
    "\n",
    "xl = Nbar_atom\n",
    "yl = Int_st\n",
    "\n",
    "\n",
    "mymodel_l = numpy.poly1d(numpy.polyfit(xl, yl, 1))\n",
    "\n",
    "myline_l = numpy.linspace(0, 2000, 60)\n",
    "\n",
    "print(r2_score(yl, mymodel_l(xl)))"
   ]
  },
  {
   "cell_type": "code",
   "execution_count": 367,
   "metadata": {},
   "outputs": [
    {
     "data": {
      "text/plain": [
       "poly1d([   45.32304681, -6364.60736666])"
      ]
     },
     "execution_count": 367,
     "metadata": {},
     "output_type": "execute_result"
    }
   ],
   "source": [
    "mymodel_l"
   ]
  },
  {
   "cell_type": "code",
   "execution_count": 405,
   "metadata": {},
   "outputs": [
    {
     "data": {
      "image/png": "[encoded data removed]",
      "text/plain": [
       "<Figure size 792x576 with 1 Axes>"
      ]
     },
     "metadata": {
      "needs_background": "light"
     },
     "output_type": "display_data"
    }
   ],
   "source": [
    "plt.title(\"Intensity vs N, 3D, $\\Omega=1.25\\Gamma$, $\\sigma_{x}=20\\lambda$, $\\sigma_{r}=0.5\\lambda$\",fontsize=1.3*fontsize)\n",
    "\n",
    "plt.ylabel(r'$I=\\left< \\hat{S}_p^{+}\\hat{S}_p^{-} \\right>$',fontsize=fontsize)\n",
    "plt.xlabel(r'$N$',fontsize=fontsize)  \n",
    "\n",
    "\n",
    "#plt.plot(myline_l, mymodel_l(myline_l),\"r\")\n",
    "plt.scatter(array(Nbar_atom),array(Int_st))\n",
    "\n",
    "plt.yscale(\"log\")\n",
    "plt.xscale(\"log\")"
   ]
  },
  {
   "cell_type": "code",
   "execution_count": null,
   "metadata": {},
   "outputs": [],
   "source": []
  },
  {
   "cell_type": "code",
   "execution_count": 369,
   "metadata": {},
   "outputs": [
    {
     "data": {
      "text/plain": [
       "Text(0.5, 0, '$N$')"
      ]
     },
     "execution_count": 369,
     "metadata": {},
     "output_type": "execute_result"
    },
    {
     "data": {
      "image/png": "[encoded data removed]",
      "text/plain": [
       "<Figure size 792x576 with 1 Axes>"
      ]
     },
     "metadata": {
      "needs_background": "light"
     },
     "output_type": "display_data"
    }
   ],
   "source": [
    "plt.title(\"Intensity vs N, 3D, $\\Omega=1.25\\Gamma$, $\\sigma_{x}=20\\lambda$, $\\sigma_{r}=0.5\\lambda$\",fontsize=1.3*fontsize)\n",
    "\n",
    "plt.ylabel(r'$I=\\left< \\hat{S}_p^{+}\\hat{S}_p^{-} \\right>$',fontsize=fontsize)\n",
    "plt.xlabel(r'$N$',fontsize=fontsize)  \n",
    "\n",
    "\n",
    "\n",
    "plt.scatter(array(Nbar_atom),array(Int_st))\n",
    "plt.plot(Nbar,Est_bar)\n",
    "\n",
    "\n",
    "\n",
    "\n",
    "plt.xlabel(\"$N$\")"
   ]
  },
  {
   "cell_type": "code",
   "execution_count": null,
   "metadata": {},
   "outputs": [],
   "source": []
  },
  {
   "cell_type": "code",
   "execution_count": null,
   "metadata": {},
   "outputs": [],
   "source": []
  },
  {
   "cell_type": "code",
   "execution_count": null,
   "metadata": {},
   "outputs": [],
   "source": []
  },
  {
   "cell_type": "code",
   "execution_count": 370,
   "metadata": {},
   "outputs": [
    {
     "data": {
      "text/plain": [
       "[<matplotlib.lines.Line2D at 0x24736a8c520>]"
      ]
     },
     "execution_count": 370,
     "metadata": {},
     "output_type": "execute_result"
    },
    {
     "data": {
      "image/png": "[encoded data removed]",
      "text/plain": [
       "<Figure size 792x576 with 1 Axes>"
      ]
     },
     "metadata": {
      "needs_background": "light"
     },
     "output_type": "display_data"
    }
   ],
   "source": [
    "plt.plot(0.005*array(N_atom)[1:],array(Int_st)[1:])"
   ]
  },
  {
   "cell_type": "code",
   "execution_count": null,
   "metadata": {},
   "outputs": [],
   "source": []
  },
  {
   "cell_type": "code",
   "execution_count": null,
   "metadata": {},
   "outputs": [],
   "source": []
  },
  {
   "cell_type": "markdown",
   "metadata": {},
   "source": [
    "# $\\Omega=5.00\\Gamma$"
   ]
  },
  {
   "cell_type": "code",
   "execution_count": 837,
   "metadata": {},
   "outputs": [
    {
     "data": {
      "text/plain": [
       "(28568.207275390625-3.4332275390625e-05j)"
      ]
     },
     "execution_count": 837,
     "metadata": {},
     "output_type": "execute_result"
    }
   ],
   "source": [
    "mean(((Res3000_5dot00_0[:,4]+Res3000_5dot00_1[:,4])/2)[-4:])"
   ]
  },
  {
   "cell_type": "code",
   "execution_count": 371,
   "metadata": {},
   "outputs": [
    {
     "data": {
      "text/plain": [
       "(374.4501953125-2.384185791015625e-07j)"
      ]
     },
     "execution_count": 371,
     "metadata": {},
     "output_type": "execute_result"
    }
   ],
   "source": [
    "Res0300_5dot00_0[:,4][-1]"
   ]
  },
  {
   "cell_type": "code",
   "execution_count": 372,
   "metadata": {},
   "outputs": [
    {
     "data": {
      "text/plain": [
       "(1218.5537109375+1.0251998901367188e-05j)"
      ]
     },
     "execution_count": 372,
     "metadata": {},
     "output_type": "execute_result"
    }
   ],
   "source": [
    "Res0600_5dot00_0[:,4][-1]"
   ]
  },
  {
   "cell_type": "code",
   "execution_count": 373,
   "metadata": {},
   "outputs": [
    {
     "data": {
      "text/plain": [
       "(3105.98681640625+7.462501525878906e-05j)"
      ]
     },
     "execution_count": 373,
     "metadata": {},
     "output_type": "execute_result"
    }
   ],
   "source": [
    "Res1000_5dot00_0[:,4][-1]"
   ]
  },
  {
   "cell_type": "code",
   "execution_count": 374,
   "metadata": {},
   "outputs": [
    {
     "name": "stderr",
     "output_type": "stream",
     "text": [
      "C:\\Users\\camil\\anaconda3\\lib\\site-packages\\matplotlib\\cbook\\__init__.py:1317: ComplexWarning: Casting complex values to real discards the imaginary part\n",
      "  return np.asarray(x, float)\n"
     ]
    },
    {
     "data": {
      "text/plain": [
       "[<matplotlib.lines.Line2D at 0x24736d82eb0>]"
      ]
     },
     "execution_count": 374,
     "metadata": {},
     "output_type": "execute_result"
    },
    {
     "data": {
      "image/png": "[encoded data removed]",
      "text/plain": [
       "<Figure size 792x576 with 1 Axes>"
      ]
     },
     "metadata": {
      "needs_background": "light"
     },
     "output_type": "display_data"
    }
   ],
   "source": [
    "plt.plot(Res1000_5dot00_0[:,0],Res1000_5dot00_0[:,4])"
   ]
  },
  {
   "cell_type": "code",
   "execution_count": null,
   "metadata": {},
   "outputs": [],
   "source": []
  },
  {
   "cell_type": "code",
   "execution_count": null,
   "metadata": {},
   "outputs": [],
   "source": []
  },
  {
   "cell_type": "code",
   "execution_count": null,
   "metadata": {},
   "outputs": [],
   "source": []
  },
  {
   "cell_type": "code",
   "execution_count": null,
   "metadata": {},
   "outputs": [],
   "source": []
  },
  {
   "cell_type": "code",
   "execution_count": 839,
   "metadata": {},
   "outputs": [
    {
     "data": {
      "text/plain": [
       "<matplotlib.collections.PathCollection at 0x2474ba38370>"
      ]
     },
     "execution_count": 839,
     "metadata": {},
     "output_type": "execute_result"
    },
    {
     "data": {
      "image/png": "[encoded data removed]",
      "text/plain": [
       "<Figure size 792x576 with 1 Axes>"
      ]
     },
     "metadata": {
      "needs_background": "light"
     },
     "output_type": "display_data"
    }
   ],
   "source": [
    "Nstr=[300,600,1000,1600,2000,3000]\n",
    "\n",
    "Intstr=[374.450195,1218.5537,3105.986816,7760.719360,12189.642903645,28568.2072753]\n",
    "\n",
    "plt.scatter(Nstr,Intstr)"
   ]
  },
  {
   "cell_type": "code",
   "execution_count": null,
   "metadata": {},
   "outputs": [],
   "source": []
  },
  {
   "cell_type": "code",
   "execution_count": null,
   "metadata": {},
   "outputs": [],
   "source": []
  },
  {
   "cell_type": "code",
   "execution_count": null,
   "metadata": {},
   "outputs": [],
   "source": []
  },
  {
   "cell_type": "code",
   "execution_count": 840,
   "metadata": {},
   "outputs": [
    {
     "name": "stdout",
     "output_type": "stream",
     "text": [
      "0.9998964257362845\n"
     ]
    }
   ],
   "source": [
    "import numpy\n",
    "from sklearn.metrics import r2_score\n",
    "\n",
    "x = (Nstr)#Nstr\n",
    "y = (Intstr)#Intstr\n",
    "\n",
    "mymodel = numpy.poly1d(numpy.polyfit(x, y, 2))\n",
    "\n",
    "print(r2_score(y, mymodel(x)))\n",
    "\n",
    "\n",
    "mymodel_2 = numpy.poly1d(numpy.polyfit(x, y, 2))\n",
    "\n",
    "myline = numpy.linspace(x[0] ,x[-1],20)"
   ]
  },
  {
   "cell_type": "code",
   "execution_count": 841,
   "metadata": {},
   "outputs": [
    {
     "data": {
      "text/plain": [
       "poly1d([ 3.41821156e-03, -8.97265472e-01,  4.50089702e+02])"
      ]
     },
     "execution_count": 841,
     "metadata": {},
     "output_type": "execute_result"
    }
   ],
   "source": [
    "mymodel"
   ]
  },
  {
   "cell_type": "code",
   "execution_count": null,
   "metadata": {},
   "outputs": [],
   "source": []
  },
  {
   "cell_type": "code",
   "execution_count": null,
   "metadata": {},
   "outputs": [],
   "source": []
  },
  {
   "cell_type": "code",
   "execution_count": null,
   "metadata": {},
   "outputs": [],
   "source": []
  },
  {
   "cell_type": "code",
   "execution_count": null,
   "metadata": {},
   "outputs": [],
   "source": []
  },
  {
   "cell_type": "code",
   "execution_count": null,
   "metadata": {},
   "outputs": [],
   "source": []
  },
  {
   "cell_type": "code",
   "execution_count": 842,
   "metadata": {},
   "outputs": [
    {
     "name": "stderr",
     "output_type": "stream",
     "text": [
      "C:\\Users\\camil\\anaconda3\\lib\\site-packages\\matplotlib\\cbook\\__init__.py:1317: ComplexWarning: Casting complex values to real discards the imaginary part\n",
      "  return np.asarray(x, float)\n",
      "C:\\Users\\camil\\anaconda3\\lib\\site-packages\\matplotlib\\cbook\\__init__.py:1317: ComplexWarning: Casting complex values to real discards the imaginary part\n",
      "  return np.asarray(x, float)\n"
     ]
    },
    {
     "data": {
      "text/plain": [
       "[<matplotlib.lines.Line2D at 0x2474bbca670>]"
      ]
     },
     "execution_count": 842,
     "metadata": {},
     "output_type": "execute_result"
    },
    {
     "data": {
      "image/png": "[encoded data removed]",
      "text/plain": [
       "<Figure size 792x576 with 1 Axes>"
      ]
     },
     "metadata": {
      "needs_background": "light"
     },
     "output_type": "display_data"
    }
   ],
   "source": [
    "plt.plot(Res1200_5dot00_0[:,4])\n",
    "plt.plot(Res1200_5dot00_1[:,4])"
   ]
  },
  {
   "cell_type": "code",
   "execution_count": 843,
   "metadata": {},
   "outputs": [
    {
     "data": {
      "text/plain": [
       "(4407.252624511719-1.0848045349121094e-05j)"
      ]
     },
     "execution_count": 843,
     "metadata": {},
     "output_type": "execute_result"
    }
   ],
   "source": [
    "mean(((Res1200_5dot00_1[:,4]+Res1200_5dot00_0[:,4])/2)[-4:])"
   ]
  },
  {
   "cell_type": "code",
   "execution_count": 855,
   "metadata": {},
   "outputs": [
    {
     "data": {
      "text/plain": [
       "Text(0.5, 0, '$N$')"
      ]
     },
     "execution_count": 855,
     "metadata": {},
     "output_type": "execute_result"
    },
    {
     "data": {
      "image/png": "[encoded data removed]",
      "text/plain": [
       "<Figure size 792x576 with 1 Axes>"
      ]
     },
     "metadata": {
      "needs_background": "light"
     },
     "output_type": "display_data"
    }
   ],
   "source": [
    "#Nstr=[300,600,1000,1200,2000]\n",
    "\n",
    "\n",
    "\n",
    "#Intstr=[374.450195,1218.5537,3105.986816,4407.2526245,12189.642903645]\n",
    "\n",
    "plt.scatter(Nstr,Intstr)\n",
    "plt.plot(myline, mymodel_2(myline))\n",
    "fontsize=22\n",
    "\n",
    "plt.title(\"Intensity vs N, 3D, $\\Omega=5.00\\Gamma$, $\\sigma_{x}=20\\lambda$, $\\sigma_{r}=0.5\\lambda$\",fontsize=1.3*fontsize)\n",
    "\n",
    "\n",
    "plt.ylabel(r'$I=\\left< \\hat{S}_p^{+}\\hat{S}_p^{-} \\right>$',fontsize=fontsize)\n",
    "plt.xlabel(r'$N$',fontsize=fontsize)    \n",
    "\n",
    "\n",
    "\n"
   ]
  },
  {
   "cell_type": "code",
   "execution_count": null,
   "metadata": {},
   "outputs": [],
   "source": []
  },
  {
   "cell_type": "code",
   "execution_count": null,
   "metadata": {},
   "outputs": [],
   "source": []
  },
  {
   "cell_type": "code",
   "execution_count": null,
   "metadata": {},
   "outputs": [],
   "source": []
  },
  {
   "cell_type": "code",
   "execution_count": 548,
   "metadata": {},
   "outputs": [
    {
     "name": "stderr",
     "output_type": "stream",
     "text": [
      "C:\\Users\\camil\\anaconda3\\lib\\site-packages\\matplotlib\\cbook\\__init__.py:1317: ComplexWarning: Casting complex values to real discards the imaginary part\n",
      "  return np.asarray(x, float)\n",
      "C:\\Users\\camil\\anaconda3\\lib\\site-packages\\matplotlib\\cbook\\__init__.py:1317: ComplexWarning: Casting complex values to real discards the imaginary part\n",
      "  return np.asarray(x, float)\n"
     ]
    },
    {
     "data": {
      "text/plain": [
       "[<matplotlib.lines.Line2D at 0x2473e23f340>]"
      ]
     },
     "execution_count": 548,
     "metadata": {},
     "output_type": "execute_result"
    },
    {
     "data": {
      "image/png": "[encoded data removed]",
      "text/plain": [
       "<Figure size 792x576 with 1 Axes>"
      ]
     },
     "metadata": {
      "needs_background": "light"
     },
     "output_type": "display_data"
    }
   ],
   "source": [
    "#plt.plot(Res0300_1dot25_0[:,0],Res0300_1dot25_0[:,4])\n",
    "#plt.plot(Res0300_1dot25_1[:,0],Res0300_1dot25_1[:,4])\n",
    "\n",
    "plt.plot(Res0128_1dot25_0[:,0],Res0128_1dot25_0[:,4])\n",
    "plt.plot(Res0128_1dot25_1[:,0],Res0128_1dot25_1[:,4])\n",
    "\n",
    "\n",
    "#plt.plot(Res0300_5dot00_0[:,0],Res0300_5dot00_0[:,4])"
   ]
  },
  {
   "cell_type": "code",
   "execution_count": 529,
   "metadata": {},
   "outputs": [
    {
     "data": {
      "text/plain": [
       "array([   0.        +0.00000000e+00j, 2496.19091797-5.72204590e-06j,\n",
       "        259.61437988+1.19209290e-07j,  818.84576416+4.76837158e-07j,\n",
       "        654.96130371-1.31130219e-06j,  643.96276855+3.57627869e-07j,\n",
       "        672.96008301-8.34465027e-07j,  654.69836426+1.19209290e-06j,\n",
       "        661.28942871+1.66893005e-06j,  659.47265625-7.15255737e-07j,\n",
       "        659.41986084+3.57627869e-06j,  659.5970459 -5.96046448e-07j,\n",
       "        659.40911865-2.62260437e-06j,  659.45062256+5.96046448e-07j,\n",
       "        659.41943359-2.38418579e-07j])"
      ]
     },
     "execution_count": 529,
     "metadata": {},
     "output_type": "execute_result"
    }
   ],
   "source": [
    "Res0128_1dot25_0[:,4]"
   ]
  },
  {
   "cell_type": "code",
   "execution_count": 530,
   "metadata": {},
   "outputs": [
    {
     "data": {
      "text/plain": [
       "array([   0.        +0.00000000e+00j, 2492.54345703-9.53674316e-07j,\n",
       "        252.81445312-8.94069672e-07j,  819.39556885+0.00000000e+00j,\n",
       "        654.89770508+2.26497650e-06j,  641.1998291 +3.57627869e-06j,\n",
       "        672.10217285-1.07288361e-06j,  653.11779785+7.15255737e-07j,\n",
       "        659.64727783-4.76837158e-07j,  657.9666748 +4.76837158e-07j,\n",
       "        657.71325684+3.09944153e-06j,  657.84875488+1.19209290e-07j,\n",
       "        657.60681152+1.66893005e-06j,  657.59375   -3.45706940e-06j,\n",
       "        657.52050781+5.96046448e-07j])"
      ]
     },
     "execution_count": 530,
     "metadata": {},
     "output_type": "execute_result"
    }
   ],
   "source": [
    "Res0128_1dot25_1[:,4]"
   ]
  },
  {
   "cell_type": "code",
   "execution_count": null,
   "metadata": {},
   "outputs": [],
   "source": []
  },
  {
   "cell_type": "code",
   "execution_count": 531,
   "metadata": {},
   "outputs": [],
   "source": [
    "#plt.plot(Res0600_1dot25_0[:,0],Res0600_1dot25_0[:,4])"
   ]
  },
  {
   "cell_type": "code",
   "execution_count": 532,
   "metadata": {},
   "outputs": [
    {
     "data": {
      "text/plain": [
       "array([4012.19140625-6.86645508e-05j, 4011.30786133-8.39233398e-05j,\n",
       "       4010.46142578-2.09808350e-05j])"
      ]
     },
     "execution_count": 532,
     "metadata": {},
     "output_type": "execute_result"
    }
   ],
   "source": [
    "((Res0300_1dot25_0[:,4]+Res0300_1dot25_1[:,4])/2)[-3:]"
   ]
  },
  {
   "cell_type": "code",
   "execution_count": 533,
   "metadata": {},
   "outputs": [
    {
     "data": {
      "text/plain": [
       "array([3904.00048828+1.52587891e-05j, 3903.23095703-5.34057617e-05j,\n",
       "       3902.30322266+3.81469727e-05j])"
      ]
     },
     "execution_count": 533,
     "metadata": {},
     "output_type": "execute_result"
    }
   ],
   "source": [
    "(Res0300_1dot25_0[:,4])[-3:]"
   ]
  },
  {
   "cell_type": "code",
   "execution_count": 534,
   "metadata": {},
   "outputs": [
    {
     "data": {
      "text/plain": [
       "array([4120.38232422-1.52587891e-04j, 4119.38476562-1.14440918e-04j,\n",
       "       4118.61962891-8.01086426e-05j])"
      ]
     },
     "execution_count": 534,
     "metadata": {},
     "output_type": "execute_result"
    }
   ],
   "source": [
    "(Res0300_1dot25_1[:,4])[-3:]"
   ]
  },
  {
   "cell_type": "code",
   "execution_count": null,
   "metadata": {},
   "outputs": [],
   "source": []
  },
  {
   "cell_type": "markdown",
   "metadata": {},
   "source": [
    "# $\\Omega=8.00\\Gamma$"
   ]
  },
  {
   "cell_type": "code",
   "execution_count": 856,
   "metadata": {},
   "outputs": [],
   "source": [
    "\n",
    "\n",
    "#8\n",
    "\n",
    "\n",
    "\n",
    "\n",
    "\n",
    "N_800=np.array([300,600,800,1200,1400])\n",
    "I_800=np.array([238.068532,656.198567,1035.2141,2040.980,2679.916])"
   ]
  },
  {
   "cell_type": "code",
   "execution_count": null,
   "metadata": {},
   "outputs": [],
   "source": []
  },
  {
   "cell_type": "code",
   "execution_count": null,
   "metadata": {},
   "outputs": [],
   "source": []
  },
  {
   "cell_type": "code",
   "execution_count": null,
   "metadata": {},
   "outputs": [],
   "source": []
  },
  {
   "cell_type": "code",
   "execution_count": null,
   "metadata": {},
   "outputs": [],
   "source": []
  },
  {
   "cell_type": "code",
   "execution_count": 857,
   "metadata": {},
   "outputs": [
    {
     "data": {
      "text/plain": [
       "0.36279953046590546"
      ]
     },
     "execution_count": 857,
     "metadata": {},
     "output_type": "execute_result"
    }
   ],
   "source": [
    "238.068532/656.198567"
   ]
  },
  {
   "cell_type": "code",
   "execution_count": 858,
   "metadata": {},
   "outputs": [
    {
     "data": {
      "text/plain": [
       "0.3627380519585446"
      ]
     },
     "execution_count": 858,
     "metadata": {},
     "output_type": "execute_result"
    }
   ],
   "source": [
    "0.5**1.463"
   ]
  },
  {
   "cell_type": "code",
   "execution_count": 865,
   "metadata": {},
   "outputs": [
    {
     "data": {
      "text/plain": [
       "array([ 800, 1200, 1400])"
      ]
     },
     "execution_count": 865,
     "metadata": {},
     "output_type": "execute_result"
    }
   ],
   "source": [
    "np.array(N_800)[-3:]"
   ]
  },
  {
   "cell_type": "code",
   "execution_count": null,
   "metadata": {},
   "outputs": [],
   "source": []
  },
  {
   "cell_type": "code",
   "execution_count": 869,
   "metadata": {},
   "outputs": [
    {
     "name": "stdout",
     "output_type": "stream",
     "text": [
      "coefficient of determination: 1.0\n",
      "intercept: -4.905651847532313\n",
      "slope: [1.76681262]\n",
      "Predicted response:\n",
      "[7.62118536 7.89354073]\n"
     ]
    }
   ],
   "source": [
    "# Import the packages and classes needed in this example:\n",
    "import numpy as np\n",
    "from sklearn.linear_model import LinearRegression\n",
    "\n",
    "# Create a numpy array of data:\n",
    "x = np.log(np.array(N_800)[-2:].reshape((-1, 1)))\n",
    "y = np.log(np.array(I_800)[-2:])\n",
    "\n",
    "# Create an instance of a linear regression model and fit it to the data with the fit() function:\n",
    "model = LinearRegression().fit(x, y) \n",
    "\n",
    "# The following section will get results by interpreting the created instance: \n",
    "\n",
    "# Obtain the coefficient of determination by calling the model with the score() function, then print the coefficient:\n",
    "r_sq = model.score(x, y)\n",
    "print('coefficient of determination:', r_sq)\n",
    "\n",
    "# Print the Intercept:\n",
    "print('intercept:', model.intercept_)\n",
    "\n",
    "# Print the Slope:\n",
    "print('slope:', model.coef_) \n",
    "\n",
    "# Predict a Response and print it:\n",
    "y_pred = model.predict(x)\n",
    "print('Predicted response:', y_pred, sep='\\n')"
   ]
  },
  {
   "cell_type": "code",
   "execution_count": 860,
   "metadata": {},
   "outputs": [
    {
     "data": {
      "text/plain": [
       "0.029554493208384852"
      ]
     },
     "execution_count": 860,
     "metadata": {},
     "output_type": "execute_result"
    }
   ],
   "source": [
    "np.exp( model.intercept_)"
   ]
  },
  {
   "cell_type": "code",
   "execution_count": 861,
   "metadata": {},
   "outputs": [
    {
     "data": {
      "text/plain": [
       "<matplotlib.legend.Legend at 0x2474ce82e50>"
      ]
     },
     "execution_count": 861,
     "metadata": {},
     "output_type": "execute_result"
    },
    {
     "data": {
      "image/png": "[encoded data removed]",
      "text/plain": [
       "<Figure size 792x576 with 1 Axes>"
      ]
     },
     "metadata": {
      "needs_background": "light"
     },
     "output_type": "display_data"
    }
   ],
   "source": [
    "plt.title(\"Intensity vs N, 3D, $\\Omega=8.00\\Gamma$, $\\sigma_{x}=20\\lambda$, $\\sigma_{r}=0.5\\lambda$\",fontsize=1.3*fontsize)\n",
    "\n",
    "\n",
    "plt.ylabel(r'$I=\\left< \\hat{S}_p^{+}\\hat{S}_p^{-} \\right>$',fontsize=fontsize)\n",
    "plt.xlabel(r'$N$',fontsize=fontsize)    \n",
    "\n",
    "\n",
    "\n",
    "plt.scatter(N_800,I_800,label=\"$I_{\\\\rm{est}}$ CMFT, Cluster size=$6$, Realizations$\\geq2$\")\n",
    "\n",
    "plt.plot(N_800,np.exp( model.intercept_)*((N_800)**model.coef_),label=\"$I_{\\\\rm{est}}=0.02955N^{1.5708}$\")\n",
    "\n",
    "\n",
    "\n",
    "\n",
    "plt.yscale(\"log\")\n",
    "plt.xscale(\"log\")\n",
    "\n",
    "plt.legend()"
   ]
  },
  {
   "cell_type": "code",
   "execution_count": 748,
   "metadata": {},
   "outputs": [
    {
     "data": {
      "text/plain": [
       "0.029554493208384852"
      ]
     },
     "execution_count": 748,
     "metadata": {},
     "output_type": "execute_result"
    }
   ],
   "source": [
    "np.exp( model.intercept_)"
   ]
  },
  {
   "cell_type": "code",
   "execution_count": 749,
   "metadata": {},
   "outputs": [
    {
     "data": {
      "text/plain": [
       "array([1.5707818])"
      ]
     },
     "execution_count": 749,
     "metadata": {},
     "output_type": "execute_result"
    }
   ],
   "source": [
    "model.coef_"
   ]
  },
  {
   "cell_type": "code",
   "execution_count": null,
   "metadata": {},
   "outputs": [],
   "source": []
  },
  {
   "cell_type": "code",
   "execution_count": 602,
   "metadata": {},
   "outputs": [
    {
     "data": {
      "text/plain": [
       "(238.0685323079427+1.5025337537129718e-07j)"
      ]
     },
     "execution_count": 602,
     "metadata": {},
     "output_type": "execute_result"
    }
   ],
   "source": [
    "mean(Res0300_8dot00_0[:,4][-3:])"
   ]
  },
  {
   "cell_type": "code",
   "execution_count": 607,
   "metadata": {},
   "outputs": [
    {
     "data": {
      "text/plain": [
       "(656.1985677083333-1.6788641611735025e-06j)"
      ]
     },
     "execution_count": 607,
     "metadata": {},
     "output_type": "execute_result"
    }
   ],
   "source": [
    "mean(Res0600_8dot00_0[:,4][-3:])"
   ]
  },
  {
   "cell_type": "code",
   "execution_count": null,
   "metadata": {},
   "outputs": [],
   "source": []
  },
  {
   "cell_type": "code",
   "execution_count": null,
   "metadata": {},
   "outputs": [],
   "source": []
  },
  {
   "cell_type": "markdown",
   "metadata": {},
   "source": [
    "# $\\Omega=3.00\\Gamma$"
   ]
  },
  {
   "cell_type": "code",
   "execution_count": 774,
   "metadata": {},
   "outputs": [],
   "source": [
    "N_300=np.array([300,600,800,1200])\n",
    "I_300=np.array([781.438695,2953.0357,5289.0193,12620.6037])"
   ]
  },
  {
   "cell_type": "code",
   "execution_count": 779,
   "metadata": {},
   "outputs": [
    {
     "name": "stdout",
     "output_type": "stream",
     "text": [
      "coefficient of determination: 0.9991661661105283\n",
      "intercept: -4.765863377360921\n",
      "slope: [1.99925999]\n",
      "Predicted response:\n",
      "[6.6374807  8.02326213 8.59841338 9.40904355]\n"
     ]
    }
   ],
   "source": [
    "# Import the packages and classes needed in this example:\n",
    "import numpy as np\n",
    "from sklearn.linear_model import LinearRegression\n",
    "\n",
    "# Create a numpy array of data:\n",
    "x = np.log(np.array(N_300).reshape((-1, 1)))\n",
    "y = np.log(np.array(I_300))\n",
    "\n",
    "# Create an instance of a linear regression model and fit it to the data with the fit() function:\n",
    "model = LinearRegression().fit(x, y) \n",
    "\n",
    "# The following section will get results by interpreting the created instance: \n",
    "\n",
    "# Obtain the coefficient of determination by calling the model with the score() function, then print the coefficient:\n",
    "r_sq = model.score(x, y)\n",
    "print('coefficient of determination:', r_sq)\n",
    "\n",
    "# Print the Intercept:\n",
    "print('intercept:', model.intercept_)\n",
    "\n",
    "# Print the Slope:\n",
    "print('slope:', model.coef_) \n",
    "\n",
    "# Predict a Response and print it:\n",
    "y_pred = model.predict(x)\n",
    "print('Predicted response:', y_pred, sep='\\n')"
   ]
  },
  {
   "cell_type": "code",
   "execution_count": 785,
   "metadata": {},
   "outputs": [
    {
     "data": {
      "text/plain": [
       "<matplotlib.legend.Legend at 0x247456b5df0>"
      ]
     },
     "execution_count": 785,
     "metadata": {},
     "output_type": "execute_result"
    },
    {
     "data": {
      "image/png": "[encoded data removed]",
      "text/plain": [
       "<Figure size 792x576 with 1 Axes>"
      ]
     },
     "metadata": {
      "needs_background": "light"
     },
     "output_type": "display_data"
    }
   ],
   "source": [
    "plt.title(\"Intensity vs N, 3D, $\\Omega=3.00\\Gamma$, $\\sigma_{x}=20\\lambda$, $\\sigma_{r}=0.5\\lambda$\",fontsize=1.3*fontsize)\n",
    "\n",
    "\n",
    "plt.ylabel(r'$I=\\left< \\hat{S}_p^{+}\\hat{S}_p^{-} \\right>$',fontsize=fontsize)\n",
    "plt.xlabel(r'$N$',fontsize=fontsize) \n",
    "\n",
    "\n",
    "\n",
    "\n",
    "plt.scatter(N_300,I_300)\n",
    "\n",
    "plt.plot(N_300,np.exp( model.intercept_)*((N_300)**model.coef_),label=\"$I_{\\\\rm{est}}=8.515\\\\times10^{-3}N^{1.9992}$\")\n",
    "\n",
    "\n",
    "plt.yscale(\"log\")\n",
    "plt.xscale(\"log\")\n",
    "\n",
    "plt.legend()"
   ]
  },
  {
   "cell_type": "code",
   "execution_count": 782,
   "metadata": {},
   "outputs": [
    {
     "data": {
      "text/plain": [
       "0.008515532949296209"
      ]
     },
     "execution_count": 782,
     "metadata": {},
     "output_type": "execute_result"
    }
   ],
   "source": [
    "exp( -4.765863377360921)"
   ]
  },
  {
   "cell_type": "code",
   "execution_count": 777,
   "metadata": {},
   "outputs": [
    {
     "name": "stdout",
     "output_type": "stream",
     "text": [
      "coefficient of determination: 0.9991661661105283\n",
      "intercept: -4.765863377360921\n",
      "slope: [1.99925999]\n",
      "Predicted response:\n",
      "[6.6374807  8.02326213 8.59841338 9.40904355]\n"
     ]
    }
   ],
   "source": []
  },
  {
   "cell_type": "code",
   "execution_count": null,
   "metadata": {},
   "outputs": [],
   "source": []
  },
  {
   "cell_type": "code",
   "execution_count": 845,
   "metadata": {},
   "outputs": [],
   "source": [
    "\n",
    "Nstr=[300,600,1000,1600,2000,3000]\n",
    "\n",
    "Intstr=[374.450195,1218.5537,3105.986816,7760.719360,12189.64290,28568.2072753]\n"
   ]
  },
  {
   "cell_type": "code",
   "execution_count": 850,
   "metadata": {},
   "outputs": [
    {
     "name": "stdout",
     "output_type": "stream",
     "text": [
      "coefficient of determination: 0.9995717758092167\n",
      "intercept: -5.916055392713563\n",
      "slope: [2.01823055]\n",
      "Predicted response:\n",
      "[ 8.02538734  8.97396302  9.42431816 10.24264022]\n"
     ]
    }
   ],
   "source": [
    "# Import the packages and classes needed in this example:\n",
    "import numpy as np\n",
    "from sklearn.linear_model import LinearRegression\n",
    "\n",
    "# Create a numpy array of data:\n",
    "x = np.log(np.array(Nstr)[-4:].reshape((-1, 1)))\n",
    "y = np.log(np.array(Intstr)[-4:])\n",
    "\n",
    "# Create an instance of a linear regression model and fit it to the data with the fit() function:\n",
    "model = LinearRegression().fit(x, y) \n",
    "\n",
    "# The following section will get results by interpreting the created instance: \n",
    "\n",
    "# Obtain the coefficient of determination by calling the model with the score() function, then print the coefficient:\n",
    "r_sq = model.score(x, y)\n",
    "print('coefficient of determination:', r_sq)\n",
    "\n",
    "# Print the Intercept:\n",
    "print('intercept:', model.intercept_)\n",
    "\n",
    "# Print the Slope:\n",
    "print('slope:', model.coef_) \n",
    "\n",
    "# Predict a Response and print it:\n",
    "y_pred = model.predict(x)\n",
    "print('Predicted response:', y_pred, sep='\\n')"
   ]
  },
  {
   "cell_type": "code",
   "execution_count": 870,
   "metadata": {},
   "outputs": [],
   "source": [
    "Omega=[1.25,3.00,5,8.00]\n",
    "Alpha=[1.077534,1.99925,2.01823,1.7668126]\n",
    "\n",
    "\n"
   ]
  },
  {
   "cell_type": "code",
   "execution_count": 871,
   "metadata": {},
   "outputs": [
    {
     "data": {
      "text/plain": [
       "<matplotlib.legend.Legend at 0x2474d013070>"
      ]
     },
     "execution_count": 871,
     "metadata": {},
     "output_type": "execute_result"
    },
    {
     "data": {
      "image/png": "[encoded data removed]",
      "text/plain": [
       "<Figure size 792x576 with 1 Axes>"
      ]
     },
     "metadata": {
      "needs_background": "light"
     },
     "output_type": "display_data"
    }
   ],
   "source": [
    "\n",
    "plt.title(\"Time averaged, $\\\\alpha$ vs $2\\Omega/\\Gamma$, 3D Gas, $\\sigma_{x}=20\\lambda$, $\\sigma_{r}=0.5\\lambda$\",fontsize=1.3*fontsize)\n",
    "\n",
    "\n",
    "plt.ylabel(r'$\\alpha$',fontsize=fontsize)\n",
    "plt.xlabel(r'$2\\Omega/\\Gamma$',fontsize=fontsize) \n",
    "\n",
    "\n",
    "\n",
    "plt.scatter(2*np.array(Omega),Alpha,label=\"$\\\\alpha$ slope\")\n",
    "\n",
    "plt.plot(2*np.array(Omega),2*np.ones(array(Omega).shape))\n",
    "\n",
    "\n",
    "\n",
    "\n",
    "plt.legend()"
   ]
  },
  {
   "cell_type": "code",
   "execution_count": null,
   "metadata": {},
   "outputs": [],
   "source": []
  },
  {
   "cell_type": "code",
   "execution_count": null,
   "metadata": {},
   "outputs": [],
   "source": []
  },
  {
   "cell_type": "code",
   "execution_count": null,
   "metadata": {},
   "outputs": [],
   "source": []
  }
 ],
 "metadata": {
  "kernelspec": {
   "display_name": "Python 3",
   "language": "python",
   "name": "python3"
  },
  "language_info": {
   "codemirror_mode": {
    "name": "ipython",
    "version": 3
   },
   "file_extension": ".py",
   "mimetype": "text/x-python",
   "name": "python",
   "nbconvert_exporter": "python",
   "pygments_lexer": "ipython3",
   "version": "3.8.3"
  }
 },
 "nbformat": 4,
 "nbformat_minor": 4
}
